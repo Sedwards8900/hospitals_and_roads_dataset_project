{
 "cells": [
  {
   "attachments": {},
   "cell_type": "markdown",
   "metadata": {},
   "source": [
    "# Uploading building data shapefiles from Open Street Maps"
   ]
  },
  {
   "attachments": {},
   "cell_type": "markdown",
   "metadata": {},
   "source": [
    "### Building data to be uploaded if wishing to base the road-hospital connection/integration based on proximity to polygon instead of point type data. This is not necessary but can be useful for additional spatial queries where you can identify which buildings are hospitals."
   ]
  },
  {
   "cell_type": "code",
   "execution_count": 1,
   "metadata": {},
   "outputs": [],
   "source": [
    "'''\n",
    "Loading imports needed to call all libraries to perform uploading of datasets related to national transit\n",
    "Please make sure to install requirements as per README.md file's instructions.\n",
    "'''\n",
    "import geopandas as gpd\n",
    "from sqlalchemy import create_engine\n",
    "from dotenv import load_dotenv\n",
    "import os\n",
    "import numpy as np"
   ]
  },
  {
   "attachments": {},
   "cell_type": "markdown",
   "metadata": {},
   "source": [
    "# Connect to engine after creation"
   ]
  },
  {
   "cell_type": "code",
   "execution_count": 2,
   "metadata": {},
   "outputs": [],
   "source": [
    "'''\n",
    "Load environment variables in a safe way by storing them on your personal .env file\n",
    "and ensuring said file is listed within your .gitignore file.\n",
    "\n",
    "'''\n",
    "load_dotenv()\n",
    "\n",
    "USERNAME = os.getenv(\"USERNAME\")\n",
    "PASSWORD = os.getenv(\"PASSWORD\")\n",
    "SERVER = os.getenv(\"SERVER\")\n",
    "DATABASE = os.getenv(\"DATABASE\")\n",
    "PORT = '5432'\n",
    "\n",
    "db_connection_url = f\"postgresql://{USERNAME}:{PASSWORD}@{SERVER}/{DATABASE}\"\n",
    "engine = create_engine(db_connection_url)"
   ]
  },
  {
   "cell_type": "code",
   "execution_count": 3,
   "metadata": {},
   "outputs": [],
   "source": [
    "'''\n",
    "Including geoJSON files from Open Street Maps\n",
    "from https://download.geofabrik.de/north-america/us/georgia-latest-free.shp.zip\n",
    "Please note, the shapefiles selected within the zip file are only the roads shapefiles and all other layers are not needed.\n",
    "\n",
    "I recommend saving said files within a folder called georgia_osm which will contain the following:\n",
    "\n",
    "- gis_osm_buildings_a_free_1.cpg\n",
    "- gis_osm_buildings_a_free_1.dbf\n",
    "- gis_osm_buildings_a_free_1.prj\n",
    "- gis_osm_buildings_a_free_1.shp\n",
    "- gis_osm_buildings_a_free_1.shx\n",
    "\n",
    "'''\n",
    "\n",
    "# read in the data\n",
    "PATH = os.getenv(\"BUILDINGS\")\n",
    "gdf = gpd.read_file(PATH)"
   ]
  },
  {
   "cell_type": "code",
   "execution_count": 4,
   "metadata": {},
   "outputs": [
    {
     "data": {
      "text/html": [
       "<div>\n",
       "<style scoped>\n",
       "    .dataframe tbody tr th:only-of-type {\n",
       "        vertical-align: middle;\n",
       "    }\n",
       "\n",
       "    .dataframe tbody tr th {\n",
       "        vertical-align: top;\n",
       "    }\n",
       "\n",
       "    .dataframe thead th {\n",
       "        text-align: right;\n",
       "    }\n",
       "</style>\n",
       "<table border=\"1\" class=\"dataframe\">\n",
       "  <thead>\n",
       "    <tr style=\"text-align: right;\">\n",
       "      <th></th>\n",
       "      <th>osm_id</th>\n",
       "      <th>code</th>\n",
       "      <th>fclass</th>\n",
       "      <th>name</th>\n",
       "      <th>type</th>\n",
       "      <th>geometry</th>\n",
       "    </tr>\n",
       "  </thead>\n",
       "  <tbody>\n",
       "    <tr>\n",
       "      <th>0</th>\n",
       "      <td>9047651</td>\n",
       "      <td>1500</td>\n",
       "      <td>building</td>\n",
       "      <td>NaN</td>\n",
       "      <td>NaN</td>\n",
       "      <td>POLYGON ((-82.01972 33.09772, -82.01957 33.097...</td>\n",
       "    </tr>\n",
       "    <tr>\n",
       "      <th>1</th>\n",
       "      <td>9202141</td>\n",
       "      <td>1500</td>\n",
       "      <td>building</td>\n",
       "      <td>NaN</td>\n",
       "      <td>NaN</td>\n",
       "      <td>POLYGON ((-82.86844 34.11479, -82.86811 34.115...</td>\n",
       "    </tr>\n",
       "    <tr>\n",
       "      <th>2</th>\n",
       "      <td>9518929</td>\n",
       "      <td>1500</td>\n",
       "      <td>building</td>\n",
       "      <td>NaN</td>\n",
       "      <td>NaN</td>\n",
       "      <td>POLYGON ((-82.35683 31.22072, -82.35669 31.220...</td>\n",
       "    </tr>\n",
       "    <tr>\n",
       "      <th>3</th>\n",
       "      <td>24232553</td>\n",
       "      <td>1500</td>\n",
       "      <td>building</td>\n",
       "      <td>Hurt Building</td>\n",
       "      <td>commercial</td>\n",
       "      <td>POLYGON ((-84.38778 33.75436, -84.38778 33.754...</td>\n",
       "    </tr>\n",
       "    <tr>\n",
       "      <th>4</th>\n",
       "      <td>24445165</td>\n",
       "      <td>1500</td>\n",
       "      <td>building</td>\n",
       "      <td>Concourse A</td>\n",
       "      <td>NaN</td>\n",
       "      <td>POLYGON ((-84.43979 33.64077, -84.43979 33.640...</td>\n",
       "    </tr>\n",
       "    <tr>\n",
       "      <th>...</th>\n",
       "      <td>...</td>\n",
       "      <td>...</td>\n",
       "      <td>...</td>\n",
       "      <td>...</td>\n",
       "      <td>...</td>\n",
       "      <td>...</td>\n",
       "    </tr>\n",
       "    <tr>\n",
       "      <th>2493388</th>\n",
       "      <td>1159481198</td>\n",
       "      <td>1500</td>\n",
       "      <td>building</td>\n",
       "      <td>NaN</td>\n",
       "      <td>house</td>\n",
       "      <td>POLYGON ((-84.23344 34.77340, -84.23331 34.773...</td>\n",
       "    </tr>\n",
       "    <tr>\n",
       "      <th>2493389</th>\n",
       "      <td>1159481199</td>\n",
       "      <td>1500</td>\n",
       "      <td>building</td>\n",
       "      <td>NaN</td>\n",
       "      <td>house</td>\n",
       "      <td>POLYGON ((-84.23456 34.77342, -84.23440 34.773...</td>\n",
       "    </tr>\n",
       "    <tr>\n",
       "      <th>2493390</th>\n",
       "      <td>1159481200</td>\n",
       "      <td>1500</td>\n",
       "      <td>building</td>\n",
       "      <td>NaN</td>\n",
       "      <td>house</td>\n",
       "      <td>POLYGON ((-84.23512 34.77336, -84.23498 34.773...</td>\n",
       "    </tr>\n",
       "    <tr>\n",
       "      <th>2493391</th>\n",
       "      <td>1159481201</td>\n",
       "      <td>1500</td>\n",
       "      <td>building</td>\n",
       "      <td>NaN</td>\n",
       "      <td>house</td>\n",
       "      <td>POLYGON ((-84.23627 34.77273, -84.23624 34.772...</td>\n",
       "    </tr>\n",
       "    <tr>\n",
       "      <th>2493392</th>\n",
       "      <td>1159481202</td>\n",
       "      <td>1500</td>\n",
       "      <td>building</td>\n",
       "      <td>NaN</td>\n",
       "      <td>house</td>\n",
       "      <td>POLYGON ((-84.23694 34.77309, -84.23681 34.773...</td>\n",
       "    </tr>\n",
       "  </tbody>\n",
       "</table>\n",
       "<p>2493393 rows × 6 columns</p>\n",
       "</div>"
      ],
      "text/plain": [
       "             osm_id  code    fclass           name        type  \\\n",
       "0           9047651  1500  building            NaN         NaN   \n",
       "1           9202141  1500  building            NaN         NaN   \n",
       "2           9518929  1500  building            NaN         NaN   \n",
       "3          24232553  1500  building  Hurt Building  commercial   \n",
       "4          24445165  1500  building    Concourse A         NaN   \n",
       "...             ...   ...       ...            ...         ...   \n",
       "2493388  1159481198  1500  building            NaN       house   \n",
       "2493389  1159481199  1500  building            NaN       house   \n",
       "2493390  1159481200  1500  building            NaN       house   \n",
       "2493391  1159481201  1500  building            NaN       house   \n",
       "2493392  1159481202  1500  building            NaN       house   \n",
       "\n",
       "                                                  geometry  \n",
       "0        POLYGON ((-82.01972 33.09772, -82.01957 33.097...  \n",
       "1        POLYGON ((-82.86844 34.11479, -82.86811 34.115...  \n",
       "2        POLYGON ((-82.35683 31.22072, -82.35669 31.220...  \n",
       "3        POLYGON ((-84.38778 33.75436, -84.38778 33.754...  \n",
       "4        POLYGON ((-84.43979 33.64077, -84.43979 33.640...  \n",
       "...                                                    ...  \n",
       "2493388  POLYGON ((-84.23344 34.77340, -84.23331 34.773...  \n",
       "2493389  POLYGON ((-84.23456 34.77342, -84.23440 34.773...  \n",
       "2493390  POLYGON ((-84.23512 34.77336, -84.23498 34.773...  \n",
       "2493391  POLYGON ((-84.23627 34.77273, -84.23624 34.772...  \n",
       "2493392  POLYGON ((-84.23694 34.77309, -84.23681 34.773...  \n",
       "\n",
       "[2493393 rows x 6 columns]"
      ]
     },
     "execution_count": 4,
     "metadata": {},
     "output_type": "execute_result"
    }
   ],
   "source": [
    "gdf # Check if geodataframe was created successfully"
   ]
  },
  {
   "cell_type": "code",
   "execution_count": null,
   "metadata": {},
   "outputs": [],
   "source": [
    "# Push the geodataframe to postgresql database\n",
    "gdf.to_postgis(\"ga_buildings\", engine, index=False, if_exists='replace')"
   ]
  },
  {
   "attachments": {},
   "cell_type": "markdown",
   "metadata": {},
   "source": [
    "# Uploading ga_boundary data for additional spatial query capabilitites"
   ]
  },
  {
   "attachments": {},
   "cell_type": "markdown",
   "metadata": {},
   "source": [
    "### Data for GA boundary comes from geojson file downloaded at https://hub.arcgis.com/datasets/GARC::georgia-state-boundary/explore?location=32.645735%2C-83.120000%2C7.92"
   ]
  },
  {
   "cell_type": "code",
   "execution_count": 3,
   "metadata": {},
   "outputs": [],
   "source": [
    "# Retrieve path and access file\n",
    "PATH = os.getenv(\"GA_BOUNDARY\")\n",
    "gdf = gpd.read_file(PATH)"
   ]
  },
  {
   "cell_type": "code",
   "execution_count": 4,
   "metadata": {},
   "outputs": [
    {
     "data": {
      "text/html": [
       "<div>\n",
       "<style scoped>\n",
       "    .dataframe tbody tr th:only-of-type {\n",
       "        vertical-align: middle;\n",
       "    }\n",
       "\n",
       "    .dataframe tbody tr th {\n",
       "        vertical-align: top;\n",
       "    }\n",
       "\n",
       "    .dataframe thead th {\n",
       "        text-align: right;\n",
       "    }\n",
       "</style>\n",
       "<table border=\"1\" class=\"dataframe\">\n",
       "  <thead>\n",
       "    <tr style=\"text-align: right;\">\n",
       "      <th></th>\n",
       "      <th>OBJECTID</th>\n",
       "      <th>Name</th>\n",
       "      <th>GlobalID</th>\n",
       "      <th>last_edited_date</th>\n",
       "      <th>geometry</th>\n",
       "    </tr>\n",
       "  </thead>\n",
       "  <tbody>\n",
       "    <tr>\n",
       "      <th>0</th>\n",
       "      <td>1</td>\n",
       "      <td>Georgia</td>\n",
       "      <td>{626E21AE-9939-45DF-A024-6A269E0C1934}</td>\n",
       "      <td>NaN</td>\n",
       "      <td>POLYGON ((-83.10854 35.00078, -83.12076 35.000...</td>\n",
       "    </tr>\n",
       "  </tbody>\n",
       "</table>\n",
       "</div>"
      ],
      "text/plain": [
       "   OBJECTID     Name                                GlobalID  \\\n",
       "0         1  Georgia  {626E21AE-9939-45DF-A024-6A269E0C1934}   \n",
       "\n",
       "   last_edited_date                                           geometry  \n",
       "0               NaN  POLYGON ((-83.10854 35.00078, -83.12076 35.000...  "
      ]
     },
     "execution_count": 4,
     "metadata": {},
     "output_type": "execute_result"
    }
   ],
   "source": [
    "# Check if successful dataframe creation\n",
    "gdf"
   ]
  },
  {
   "cell_type": "code",
   "execution_count": 5,
   "metadata": {},
   "outputs": [],
   "source": [
    "# Push the geodataframe to postgresql database\n",
    "gdf.to_postgis(\"ga_boundary\", engine, index=False, if_exists='replace')"
   ]
  }
 ],
 "metadata": {
  "kernelspec": {
   "display_name": "Python 3",
   "language": "python",
   "name": "python3"
  },
  "language_info": {
   "codemirror_mode": {
    "name": "ipython",
    "version": 3
   },
   "file_extension": ".py",
   "mimetype": "text/x-python",
   "name": "python",
   "nbconvert_exporter": "python",
   "pygments_lexer": "ipython3",
   "version": "3.9.6"
  },
  "orig_nbformat": 4
 },
 "nbformat": 4,
 "nbformat_minor": 2
}
